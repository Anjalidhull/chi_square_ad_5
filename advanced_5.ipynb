{
 "cells": [
  {
   "cell_type": "code",
   "execution_count": null,
   "id": "27874d19-466f-481a-b92e-fda2faa21ba0",
   "metadata": {},
   "outputs": [],
   "source": [
    "Q1. Calculate the 95% confidence interval for a sample of data with a mean of 50 and a standard deviation\n",
    "of 5 using Python. Interpret the results."
   ]
  },
  {
   "cell_type": "code",
   "execution_count": 11,
   "id": "65e0a84c-4696-4d76-bbfb-972b7cad27c7",
   "metadata": {},
   "outputs": [
    {
     "name": "stdout",
     "output_type": "stream",
     "text": [
      "95% Confidence Interval for the proportion of smokers:\n",
      "Lower bound: 48.210805856282846\n",
      "Upper bound: 51.789194143717154\n"
     ]
    }
   ],
   "source": [
    "#given data\n",
    "\n",
    "# Sample size (assuming a sufficiently large sample size)\n",
    "sample_size = 30\n",
    "\n",
    "#sample mean\n",
    "mean=50\n",
    "\n",
    "#sample standard deviation\n",
    "std=5\n",
    "\n",
    "#significance level\n",
    "alpha=0.05\n",
    "\n",
    "#Z score \n",
    "Z=st.norm.ppf(1-alpha/2)\n",
    "\n",
    "#Standard error\n",
    "SE=std/np.sqrt(sample_size)\n",
    "\n",
    "margin_of_error = Z*SE\n",
    "\n",
    "# Calculate the lower and upper bounds of the confidence interval\n",
    "lower_bound = mean - margin_of_error\n",
    "upper_bound = mean + margin_of_error\n",
    "\n",
    " # Print the results\n",
    "print(\"95% Confidence Interval for the proportion of smokers:\")\n",
    "print(\"Lower bound:\", lower_bound)\n",
    "print(\"Upper bound:\", upper_bound)\n",
    "\n"
   ]
  },
  {
   "cell_type": "code",
   "execution_count": null,
   "id": "97ee1761-6c63-4af9-aa2e-b7f8dbb6f5b8",
   "metadata": {},
   "outputs": [],
   "source": [
    "Q2. Conduct a chi-square goodness of fit test to determine if the distribution of colors of M&Ms in a bag\n",
    "matches the expected distribution of 20% blue, 20% orange, 20% green, 10% yellow, 10% red, and 20%\n",
    "brown. Use Python to perform the test with a significance level of 0.05."
   ]
  },
  {
   "cell_type": "code",
   "execution_count": 3,
   "id": "eee05072-e0ee-415f-8466-f20c75f2030f",
   "metadata": {},
   "outputs": [],
   "source": [
    "import numpy as np\n",
    "from scipy import stats\n",
    "import pandas as pd"
   ]
  },
  {
   "cell_type": "code",
   "execution_count": 3,
   "id": "be996d42-9758-4a8e-b2e2-f1b4dd9b389c",
   "metadata": {},
   "outputs": [
    {
     "name": "stdout",
     "output_type": "stream",
     "text": [
      "Chi-square test statistic: 0.0\n",
      "P-value: 1.0\n",
      "The distribution of colors in the bag matches the expected distribution.\n"
     ]
    }
   ],
   "source": [
    "import numpy as np\n",
    "from scipy.stats import chisquare\n",
    "\n",
    "# Observed counts of colors\n",
    "observed_counts = [0.2,0.2,0.2,0.1,0.1,0.2]\n",
    "\n",
    "# Expected percentages (convert them to counts based on the total number of M&Ms)\n",
    "total_mms = sum(observed_counts)\n",
    "expected_counts = [total_mms * 0.2] * 3 + [total_mms * 0.1] * 2 + [total_mms * 0.2]\n",
    "\n",
    "# Perform the chi-square test\n",
    "chi2, p_value = chisquare(f_obs=observed_counts, f_exp=expected_counts)\n",
    "\n",
    "# Set the significance level\n",
    "significance_level = 0.05\n",
    "\n",
    "# Print the results\n",
    "print(\"Chi-square test statistic:\", chi2)\n",
    "print(\"P-value:\", p_value)\n",
    "\n",
    "if p_value <= significance_level:\n",
    "    print(\"The distribution of colors in the bag does not match the expected distribution.\")\n",
    "else:\n",
    "    print(\"The distribution of colors in the bag matches the expected distribution.\")\n"
   ]
  },
  {
   "cell_type": "code",
   "execution_count": null,
   "id": "3094dba3-3384-40e0-b61a-83b31229f113",
   "metadata": {},
   "outputs": [],
   "source": [
    "Q3. Use Python to calculate the chi-square statistic and p-value for a contingency table with the following\n",
    "data:\n",
    "    {\"Group A\":[20,10,15],\"Group B\":[15,25,20]}\n",
    "    "
   ]
  },
  {
   "cell_type": "code",
   "execution_count": 20,
   "id": "6360bb62-4255-45b8-af03-a4ce30648379",
   "metadata": {},
   "outputs": [
    {
     "name": "stdout",
     "output_type": "stream",
     "text": [
      "Chi-square test statistic: 5.833333333333334\n",
      "P-value: 0.05411376622282158\n"
     ]
    }
   ],
   "source": [
    "\n",
    "import numpy as np\n",
    "from scipy.stats import chi2_contingency\n",
    "\n",
    "# Contingency table data\n",
    "data = {\n",
    "    \"Group A\": [20, 10, 15],\n",
    "    \"Group B\": [15, 25, 20]\n",
    "}\n",
    "\n",
    "# Convert data to a numpy array\n",
    "contingency_table = np.array([data[\"Group A\"], data[\"Group B\"]])\n",
    "\n",
    "# Perform the chi-square test\n",
    "chi2, p_value, dof, expected = chi2_contingency(contingency_table)\n",
    "\n",
    "# Print the results\n",
    "print(\"Chi-square test statistic:\", chi2)\n",
    "print(\"P-value:\", p_value)\n",
    "\n"
   ]
  },
  {
   "cell_type": "code",
   "execution_count": null,
   "id": "8f7a5139-541a-4c82-a16c-d770550a9735",
   "metadata": {},
   "outputs": [],
   "source": [
    "Q4. A study of the prevalence of smoking in a population of 500 individuals found that 60 individuals\n",
    "smoked. Use Python to calculate the 95% confidence interval for the true proportion of individuals in the\n",
    "population who smoke."
   ]
  },
  {
   "cell_type": "code",
   "execution_count": 6,
   "id": "545cec8b-f715-4139-8a13-2541c367936e",
   "metadata": {},
   "outputs": [
    {
     "name": "stdout",
     "output_type": "stream",
     "text": [
      "95% Confidence Interval for the proportion of smokers:\n",
      "Lower bound: 0.09151638887130707\n",
      "Upper bound: 0.1484836111286929\n"
     ]
    }
   ],
   "source": [
    "import scipy.stats as st\n",
    "\n",
    "# population\n",
    "N=500\n",
    "\n",
    "#sample\n",
    "n=60\n",
    "\n",
    "#significance level\n",
    "alpha=0.05\n",
    "\n",
    "# Calculate the proportion of smokers in the sample\n",
    "p=n/N\n",
    "\n",
    "\n",
    "#Standard error\n",
    "data=(p * (1 - p)) / N\n",
    "\n",
    "SE=np.sqrt(data)\n",
    "\n",
    "# Z score\n",
    "Z=st.norm.ppf(1-alpha/2)\n",
    "\n",
    "margin_of_error = Z*SE\n",
    "\n",
    "# Calculate the lower and upper bounds of the confidence interval\n",
    "lower_bound = p - margin_of_error\n",
    "upper_bound = p + margin_of_error\n",
    "\n",
    " # Print the results\n",
    "print(\"95% Confidence Interval for the proportion of smokers:\")\n",
    "print(\"Lower bound:\", lower_bound)\n",
    "print(\"Upper bound:\", upper_bound)\n"
   ]
  },
  {
   "cell_type": "code",
   "execution_count": null,
   "id": "8e8dd115-7703-4f89-916e-8ce861b09145",
   "metadata": {},
   "outputs": [],
   "source": [
    "Q5. Calculate the 90% confidence interval for a sample of data with a mean of 75 and a standard deviation\n",
    "of 12 using Python. Interpret the results."
   ]
  },
  {
   "cell_type": "code",
   "execution_count": 5,
   "id": "f94ebeae-ca6f-4178-b362-6c4fe724067b",
   "metadata": {},
   "outputs": [
    {
     "name": "stdout",
     "output_type": "stream",
     "text": [
      "95% Confidence Interval for the proportion of smokers:\n",
      "Lower bound: 71.39630625889797\n",
      "Upper bound: 78.60369374110203\n"
     ]
    }
   ],
   "source": [
    "#given data\n",
    "\n",
    "# Sample size (assuming a sufficiently large sample size)\n",
    "sample_size = 30\n",
    "\n",
    "#sample mean\n",
    "mean=75\n",
    "\n",
    "#sample standard deviation\n",
    "std=12\n",
    "\n",
    "#significance level\n",
    "alpha=0.10\n",
    "\n",
    "#Z score \n",
    "Z=st.norm.ppf(1-alpha/2)\n",
    "\n",
    "#Standard error\n",
    "SE=std/np.sqrt(sample_size)\n",
    "\n",
    "margin_of_error = Z*SE\n",
    "\n",
    "# Calculate the lower and upper bounds of the confidence interval\n",
    "lower_bound = mean - margin_of_error\n",
    "upper_bound = mean + margin_of_error\n",
    "\n",
    " # Print the results\n",
    "print(\"95% Confidence Interval for the proportion of smokers:\")\n",
    "print(\"Lower bound:\", lower_bound)\n",
    "print(\"Upper bound:\", upper_bound)"
   ]
  },
  {
   "cell_type": "code",
   "execution_count": 6,
   "id": "f06c4c6a-624e-489a-bf79-429718dea762",
   "metadata": {},
   "outputs": [],
   "source": [
    "Q6. Use Python to plot the chi-square distribution with 10 degrees of freedom. Label the axes and shade the\n",
    "area corresponding to a chi-square statistic of 15."
   ]
  },
  {
   "cell_type": "code",
   "execution_count": 4,
   "id": "9f7cae77-2c62-4fb8-9bf7-9b6218983df5",
   "metadata": {},
   "outputs": [
    {
     "data": {
      "image/png": "[encoded data removed]",
      "text/plain": [
       "<Figure size 800x600 with 1 Axes>"
      ]
     },
     "metadata": {},
     "output_type": "display_data"
    }
   ],
   "source": [
    "import numpy as np\n",
    "import matplotlib.pyplot as plt\n",
    "import scipy.stats as st\n",
    "\n",
    "# Degrees of freedom\n",
    "df = 10\n",
    "\n",
    "# Create a range of chi-square values\n",
    "x = np.linspace(0, 30, 500)  # Adjust the range as needed\n",
    "\n",
    "# Calculate the chi-square probability density function (PDF)\n",
    "pdf = st.chi2.pdf(x, df)\n",
    "\n",
    "# Create the plot\n",
    "plt.figure(figsize=(8, 6))\n",
    "plt.plot(x, pdf, label=f'Chi-Square Distribution (df = {df})')\n",
    "plt.fill_between(x[x <= 15], pdf[x <= 15], color='skyblue', alpha=0.5, label='Chi-Square Statistic = 15')\n",
    "plt.axvline(x=15, color='red', linestyle='--', label='Chi-Square Statistic = 15')\n",
    "\n",
    "# Label the axes and add a legend\n",
    "plt.xlabel('Chi-Square Value')\n",
    "plt.ylabel('Probability Density')\n",
    "plt.title('Chi-Square Distribution with Shaded Area')\n",
    "plt.legend()\n",
    "\n",
    "# Show the plot\n",
    "plt.grid(True)\n",
    "plt.show()\n",
    "\n"
   ]
  },
  {
   "cell_type": "code",
   "execution_count": null,
   "id": "e6277d8c-8e9c-46b0-bb2a-2665e1106962",
   "metadata": {},
   "outputs": [],
   "source": [
    "Q7. A random sample of 1000 people was asked if they preferred Coke or Pepsi. Of the sample, 520\n",
    "preferred Coke. Calculate a 99% confidence interval for the true proportion of people in the population who\n",
    "prefer Coke."
   ]
  },
  {
   "cell_type": "code",
   "execution_count": 7,
   "id": "ef4a7494-0808-4c52-87f5-5e57ccd00d46",
   "metadata": {},
   "outputs": [
    {
     "name": "stdout",
     "output_type": "stream",
     "text": [
      "99% Confidence Interval for the proportion who prefer Coke:\n",
      "Lower bound: 0.4793051576779699\n",
      "Upper bound: 0.5606948423220302\n"
     ]
    }
   ],
   "source": [
    "import scipy.stats as stats\n",
    "\n",
    "# Sample proportion\n",
    "p_hat = 520 / 1000\n",
    "\n",
    "# Sample size\n",
    "n = 1000\n",
    "\n",
    "# Desired confidence level\n",
    "confidence_level = 0.99\n",
    "\n",
    "# Calculate the standard error of the proportion\n",
    "standard_error = (p_hat * (1 - p_hat) / n) ** 0.5\n",
    "\n",
    "# Calculate the margin of error\n",
    "margin_of_error = stats.norm.ppf(1 - (1 - confidence_level) / 2) * standard_error\n",
    "\n",
    "# Calculate the lower and upper bounds of the confidence interval\n",
    "lower_bound = p_hat - margin_of_error\n",
    "upper_bound = p_hat + margin_of_error\n",
    "\n",
    "# Print the results\n",
    "print(\"99% Confidence Interval for the proportion who prefer Coke:\")\n",
    "print(\"Lower bound:\", lower_bound)\n",
    "print(\"Upper bound:\", upper_bound)\n",
    "\n"
   ]
  },
  {
   "cell_type": "code",
   "execution_count": null,
   "id": "d674b0b7-c332-4036-87f0-1eb226874528",
   "metadata": {},
   "outputs": [],
   "source": [
    "Q8. A researcher hypothesizes that a coin is biased towards tails. They flip the coin 100 times and observe\n",
    "45 tails. Conduct a chi-square goodness of fit test to determine if the observed frequencies match the\n",
    "expected frequencies of a fair coin. Use a significance level of 0.05."
   ]
  },
  {
   "cell_type": "code",
   "execution_count": 28,
   "id": "f42d49ea-5d41-4faa-80ff-4efdc85c4933",
   "metadata": {},
   "outputs": [
    {
     "name": "stdout",
     "output_type": "stream",
     "text": [
      "Chi-square test statistic: 1.0\n",
      "P-value: 0.31731050786291115\n",
      "The observed frequencies match the expected frequencies of a fair coin.\n"
     ]
    }
   ],
   "source": [
    "observed_tails=45\n",
    "\n",
    "total_flips=100\n",
    "\n",
    "# significance level\n",
    "alpha=0.05\n",
    "\n",
    "# Expected frequency of tails for a fair coin (0.5 probability)\n",
    "expected_tails = total_flips * 0.5\n",
    "\n",
    "# Observed and expected frequencies for the chi-square test\n",
    "observed_frequencies = np.array([observed_tails, total_flips - observed_tails])\n",
    "expected_frequencies = np.array([expected_tails, total_flips - expected_tails])\n",
    "\n",
    "\n",
    "# Perform the chi-square goodness of fit test\n",
    "chi2, p_value = chisquare(f_obs=observed_frequencies)#, f_exp=expected_frequencies)\n",
    "\n",
    "\n",
    "\n",
    "print(\"Chi-square test statistic:\", chi2)\n",
    "print(\"P-value:\", p_value)\n",
    "\n",
    "if p_value <= alpha:\n",
    "    print(\"The observed frequencies do not match the expected frequencies of a fair coin.\")\n",
    "else:\n",
    "    print(\"The observed frequencies match the expected frequencies of a fair coin.\")\n",
    "\n",
    "\n",
    "\n"
   ]
  },
  {
   "cell_type": "code",
   "execution_count": null,
   "id": "51317eba-8913-41a4-848d-84836256c3a6",
   "metadata": {},
   "outputs": [],
   "source": [
    "Q9. A study was conducted to determine if there is an association between smoking status (smoker or\n",
    "non-smoker) and lung cancer diagnosis (yes or no). The results are shown in the contingency table below.\n",
    "Conduct a chi-square test for independence to determine if there is a significant association between\n",
    "smoking status and lung cancer diagnosis.\n",
    "\n",
    "Lung Cancer: Yes   Lung Cancer: No\n",
    "\n",
    "Smoker 60 140\n",
    "Non-smoker 30 170\n",
    "\n",
    "Use a significance level of 0.05."
   ]
  },
  {
   "cell_type": "code",
   "execution_count": 16,
   "id": "c9f64622-374b-408f-b110-b931c03177e8",
   "metadata": {},
   "outputs": [
    {
     "name": "stdout",
     "output_type": "stream",
     "text": [
      "Chi-square test statistic: 12.057347670250895\n",
      "P-value: 0.0005158863863703744\n",
      "there is a significant association between smoking status and lung cancer diagnosis.\n"
     ]
    }
   ],
   "source": [
    "observed=np.array([[60,140],[30,170]])\n",
    "alpha=0.05\n",
    " \n",
    "# Perform the chi-square test for independence\n",
    "chi2, p_value,dof, expected = chi2_contingency(observed) \n",
    "\n",
    "# Print the results\n",
    "print(\"Chi-square test statistic:\", chi2)\n",
    "print(\"P-value:\", p_value)\n",
    "\n",
    "if p_value <= alpha:\n",
    "    print('there is a significant association between smoking status and lung cancer diagnosis.')\n",
    "else:\n",
    "    print('there is a no significant association between smoking status and lung cancer diagnosis.')\n",
    "\n",
    "    \n",
    "\n",
    "\n"
   ]
  },
  {
   "cell_type": "code",
   "execution_count": null,
   "id": "c2e52910-16dd-45ef-a6a4-4c8a2572c00e",
   "metadata": {},
   "outputs": [],
   "source": [
    "Q10. A study was conducted to determine if the proportion of people who prefer milk chocolate, dark\n",
    "chocolate, or white chocolate is different in the U.S. versus the U.K. A random sample of 500 people from\n",
    "the U.S. and a random sample of 500 people from the U.K. were surveyed. The results are shown in the\n",
    "contingency table below. Conduct a chi-square test for independence to determine if there is a significant\n",
    "association between chocolate preference and country of origin.\n",
    "\n",
    "Use a significance level of 0.01.\n",
    "\n",
    "Milk Chocolate  Dark Chocolate   White Chocolate\n",
    "\n",
    "U.S. (n=500) 200 150 150\n",
    "U.K. (n=500) 225 175 100\n",
    "\n"
   ]
  },
  {
   "cell_type": "code",
   "execution_count": 13,
   "id": "4a7b1ecf-fbac-495e-ac5d-e05e3b6e65bf",
   "metadata": {},
   "outputs": [
    {
     "name": "stdout",
     "output_type": "stream",
     "text": [
      "Chi-square test statistic: 13.393665158371041\n",
      "P-value: 0.0012348168997745918\n",
      "There is a significant association between chocolate preference and country of origin.\n"
     ]
    }
   ],
   "source": [
    "import numpy as np\n",
    "from scipy.stats import chisquare\n",
    "from scipy.stats import chi2_contingency\n",
    "\n",
    "alpha=0.01\n",
    "\n",
    "obs_freq=np.array([[200,150,150],[225,175,100]])\n",
    "\n",
    "\n",
    "# Perform the chi-square test for independence\n",
    "chi2, p_value,dof, expected = chi2_contingency(obs_freq)\n",
    "\n",
    "# Print the results\n",
    "print(\"Chi-square test statistic:\", chi2)\n",
    "print(\"P-value:\", p_value)\n",
    "\n",
    "if p_value <= alpha:\n",
    "    print(\"There is a significant association between chocolate preference and country of origin.\")\n",
    "else:\n",
    "    print(\"There is no significant association between chocolate preference and country of origin.\")\n"
   ]
  },
  {
   "cell_type": "code",
   "execution_count": null,
   "id": "ca7c83ba-a322-4a56-8899-8ec4a40644c0",
   "metadata": {},
   "outputs": [],
   "source": [
    "Q11. A random sample of 30 people was selected from a population with an unknown mean and standard\n",
    "deviation. The sample mean was found to be 72 and the sample standard deviation was found to be 10.\n",
    "Conduct a hypothesis test to determine if the population mean is significantly different from 70. Use a\n",
    "significance level of 0.05."
   ]
  },
  {
   "cell_type": "code",
   "execution_count": 16,
   "id": "465c3dcf-706e-4c39-8dda-f62ccd9d66cd",
   "metadata": {},
   "outputs": [
    {
     "name": "stdout",
     "output_type": "stream",
     "text": [
      "we fail to reject null hypothesis. The population mean is not significantly different from 70.\n"
     ]
    }
   ],
   "source": [
    "sample_size=30\n",
    "\n",
    "sample_mean=72\n",
    "\n",
    "sample_std_dev=10\n",
    "\n",
    "# Hypothesized population mean under the null hypothesis\n",
    "null_mean = 70\n",
    "\n",
    "alpha=0.05# significance value\n",
    "\n",
    "\n",
    "\n",
    "Z_statistics=st.norm.ppf(1-alpha/2)\n",
    "\n",
    "Z_value=(sample_mean-null_mean)/(sample_std_dev*(1/sample_size**0.5))\n",
    "\n",
    "\n",
    "if Z_value>Z_statistics:\n",
    "    print(\"we reject null hypothesis. The population mean is  significantly different from 70.\")\n",
    "else :\n",
    "    print(\"we fail to reject null hypothesis. The population mean is not significantly different from 70.\")\n"
   ]
  }
 ],
 "metadata": {
  "kernelspec": {
   "display_name": "Python 3 (ipykernel)",
   "language": "python",
   "name": "python3"
  },
  "language_info": {
   "codemirror_mode": {
    "name": "ipython",
    "version": 3
   },
   "file_extension": ".py",
   "mimetype": "text/x-python",
   "name": "python",
   "nbconvert_exporter": "python",
   "pygments_lexer": "ipython3",
   "version": "3.10.8"
  }
 },
 "nbformat": 4,
 "nbformat_minor": 5
}
